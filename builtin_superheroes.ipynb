{
 "cells": [
  {
   "cell_type": "markdown",
   "metadata": {},
   "source": [
    "Builtin Superheroes\n",
    "==\n",
    "\n",
    "A somewhat sloppy transcript of Dave Beazley's great talk on python built in features at Pydata Chicago,\n",
    "\n",
    "so you can play along as you watch.\n",
    "\n",
    "https://www.youtube.com/watch?v=j6VSAsKAj98 (Screencast)\n",
    "\n",
    "https://www.youtube.com/watch?v=lyDLAutA88s\n"
   ]
  },
  {
   "cell_type": "code",
   "execution_count": 1,
   "metadata": {
    "collapsed": true
   },
   "outputs": [],
   "source": [
    "from presentation import *"
   ]
  },
  {
   "cell_type": "code",
   "execution_count": 2,
   "metadata": {
    "collapsed": false
   },
   "outputs": [
    {
     "data": {
      "text/plain": [
       "+---------------------------------------------------------+\n",
       "|                                                         |\n",
       "| \u001b[1m\u001b[3mSecret Weapon\u001b[0m                                           |\n",
       "|                                                         |\n",
       "| The built-in types:                                     |\n",
       "|     - tuple, list, set, dict                            |\n",
       "|     - collections module                                |\n",
       "|     - Various builtin operations                        |\n",
       "|                                                         |\n",
       "| These are a key part of becoming a Python wizard.       |\n",
       "|                                                         |\n",
       "+---------------------------------------------------------+"
      ]
     },
     "execution_count": 2,
     "metadata": {},
     "output_type": "execute_result"
    }
   ],
   "source": [
    "weapon"
   ]
  },
  {
   "cell_type": "code",
   "execution_count": 3,
   "metadata": {
    "collapsed": false
   },
   "outputs": [
    {
     "data": {
      "text/plain": [
       "+---------------------------------------------------------+\n",
       "|                                                         |\n",
       "| \u001b[1m\u001b[3mEverywhere\u001b[0m                                              |\n",
       "|                                                         |\n",
       "| The built-in types are always \"available\"               |\n",
       "|                                                         |\n",
       "|     - All versions of Python                            |\n",
       "|     - All operating systems                             |\n",
       "|     - All distributios of Python                        |\n",
       "|     - You don't need to install anything!               |\n",
       "|                                                         |\n",
       "| \"Imagine a world with no packaging if you can...\"       |\n",
       "|                                                         |\n",
       "|                                                         |\n",
       "+---------------------------------------------------------+"
      ]
     },
     "execution_count": 3,
     "metadata": {},
     "output_type": "execute_result"
    }
   ],
   "source": [
    "reasons = [everywhere, flexibility, performance, fun]\n",
    "i = iter(reasons)\n",
    "next(i)"
   ]
  },
  {
   "cell_type": "code",
   "execution_count": 4,
   "metadata": {
    "collapsed": false
   },
   "outputs": [
    {
     "data": {
      "text/plain": [
       "+-----------------------------------------------------------------+\n",
       "|                                                                 |\n",
       "| \u001b[1m\u001b[3mFlexibility\u001b[0m                                                     |\n",
       "|                                                                 |\n",
       "| Dynamic typing for the win!                                     |\n",
       "|                                                                 |\n",
       "|     - You can make data structures out of almost anything       |\n",
       "|     - You barely need to think about it                         |\n",
       "|     - Everything just works                                     |\n",
       "|                                                                 |\n",
       "|                                                                 |\n",
       "+-----------------------------------------------------------------+"
      ]
     },
     "execution_count": 4,
     "metadata": {},
     "output_type": "execute_result"
    }
   ],
   "source": [
    "next(i)"
   ]
  },
  {
   "cell_type": "code",
   "execution_count": 5,
   "metadata": {
    "collapsed": false
   },
   "outputs": [
    {
     "data": {
      "text/plain": [
       "+--------------------------------------------------------------------+\n",
       "|                                                                    |\n",
       "| \u001b[1m\u001b[3mPerformance\u001b[0m                                                        |\n",
       "|                                                                    |\n",
       "| The built-in types are fast--for coding                            |\n",
       "|                                                                    |\n",
       "|     - Memory is cheap                                              |\n",
       "|     - CPU cycles are cheap                                         |\n",
       "|     - My time is expensive                                         |\n",
       "|                                                                    |\n",
       "| The builtins provide a basic foundation for exploring ideas,       |\n",
       "| building prototypes, and solving one-off problems. You can         |\n",
       "| always optimize it later (if you need to).                         |\n",
       "|                                                                    |\n",
       "+--------------------------------------------------------------------+"
      ]
     },
     "execution_count": 5,
     "metadata": {},
     "output_type": "execute_result"
    }
   ],
   "source": [
    "next(i)"
   ]
  },
  {
   "cell_type": "code",
   "execution_count": 6,
   "metadata": {
    "collapsed": false
   },
   "outputs": [
    {
     "data": {
      "text/plain": [
       "+----------------------------------------------------------+\n",
       "|                                                          |\n",
       "| \u001b[1m\u001b[3mFun\u001b[0m                                                      |\n",
       "|                                                          |\n",
       "| It's supposed to be fun:                                 |\n",
       "|                                                          |\n",
       "|     - Builtin types are fun to use                       |\n",
       "|     - Abstract away annoying details (e.g. memory)       |\n",
       "|     - But you still have to think                        |\n",
       "|     - Cleverness is rewarded                             |\n",
       "|                                                          |\n",
       "| Reminder: It's about personal productivity               |\n",
       "|                                                          |\n",
       "|                                                          |\n",
       "+----------------------------------------------------------+"
      ]
     },
     "execution_count": 6,
     "metadata": {},
     "output_type": "execute_result"
    }
   ],
   "source": [
    "next(i)"
   ]
  },
  {
   "cell_type": "code",
   "execution_count": 7,
   "metadata": {
    "collapsed": false
   },
   "outputs": [
    {
     "data": {
      "text/plain": [
       "+--------------------------------------------------------------+\n",
       "|                                                              |\n",
       "| \u001b[1m\u001b[3mTuple\u001b[0m                                                        |\n",
       "|                                                              |\n",
       "| \u001b[1mAKA:\u001b[0m                                                         |\n",
       "|                                                              |\n",
       "|     Record, Structure                                        |\n",
       "|                                                              |\n",
       "| \u001b[1mKNOWN FOR:\u001b[0m                                                   |\n",
       "|                                                              |\n",
       "|     Packing and unpacking values. A row in a database.       |\n",
       "|                                                              |\n",
       "| \u001b[1mBASIC USAGE:\u001b[0m                                                 |\n",
       "|                                                              |\n",
       "|     record = (val1, val2, val3)                              |\n",
       "|     val = record[n]                                          |\n",
       "|                                                              |\n",
       "| \u001b[1mACCOMPLICE:\u001b[0m                                                  |\n",
       "|                                                              |\n",
       "|     - collections.namedtuple                                 |\n",
       "|                                                              |\n",
       "|                                                              |\n",
       "+--------------------------------------------------------------+"
      ]
     },
     "execution_count": 7,
     "metadata": {},
     "output_type": "execute_result"
    }
   ],
   "source": [
    "tup"
   ]
  },
  {
   "cell_type": "code",
   "execution_count": 8,
   "metadata": {
    "collapsed": true
   },
   "outputs": [],
   "source": [
    "row = ('Dave', 'Beazley', '5412 N CLARK ST')"
   ]
  },
  {
   "cell_type": "code",
   "execution_count": 9,
   "metadata": {
    "collapsed": false
   },
   "outputs": [
    {
     "data": {
      "text/plain": [
       "'Beazley'"
      ]
     },
     "execution_count": 9,
     "metadata": {},
     "output_type": "execute_result"
    }
   ],
   "source": [
    "row[1]"
   ]
  },
  {
   "cell_type": "code",
   "execution_count": 10,
   "metadata": {
    "collapsed": false
   },
   "outputs": [
    {
     "data": {
      "text/plain": [
       "'5412 N CLARK ST'"
      ]
     },
     "execution_count": 10,
     "metadata": {},
     "output_type": "execute_result"
    }
   ],
   "source": [
    "row[2]"
   ]
  },
  {
   "cell_type": "code",
   "execution_count": 11,
   "metadata": {
    "collapsed": true
   },
   "outputs": [],
   "source": [
    "from collections import namedtuple\n",
    "Person = namedtuple('Person', ['first', 'last', 'address'])"
   ]
  },
  {
   "cell_type": "code",
   "execution_count": 12,
   "metadata": {
    "collapsed": true
   },
   "outputs": [],
   "source": [
    "row = Person('Dave', 'Beazley', '5412 N CLARK ST')"
   ]
  },
  {
   "cell_type": "code",
   "execution_count": 13,
   "metadata": {
    "collapsed": false
   },
   "outputs": [
    {
     "data": {
      "text/plain": [
       "'Dave'"
      ]
     },
     "execution_count": 13,
     "metadata": {},
     "output_type": "execute_result"
    }
   ],
   "source": [
    "row.first"
   ]
  },
  {
   "cell_type": "code",
   "execution_count": 14,
   "metadata": {
    "collapsed": false
   },
   "outputs": [
    {
     "data": {
      "text/plain": [
       "'5412 N CLARK ST'"
      ]
     },
     "execution_count": 14,
     "metadata": {},
     "output_type": "execute_result"
    }
   ],
   "source": [
    "row.address"
   ]
  },
  {
   "cell_type": "code",
   "execution_count": 15,
   "metadata": {
    "collapsed": false
   },
   "outputs": [
    {
     "data": {
      "text/plain": [
       "+-------------------------------------------+\n",
       "|                                           |\n",
       "| \u001b[1m\u001b[3mList\u001b[0m                                      |\n",
       "|                                           |\n",
       "| \u001b[1mAKA:\u001b[0m                                      |\n",
       "|                                           |\n",
       "|     - Mutable sequence, Array             |\n",
       "|                                           |\n",
       "| \u001b[1mKNOWN FOR:\u001b[0m                                |\n",
       "|                                           |\n",
       "|     - Enforcing order.                    |\n",
       "|                                           |\n",
       "| \u001b[1mBASIC USAGE:\u001b[0m                              |\n",
       "|                                           |\n",
       "|     items = [val1, val2, ..., valn]       |\n",
       "|     x = items[n]                          |\n",
       "|     items[n] = x                          |\n",
       "|     del items[n]                          |\n",
       "|     items.append(value)                   |\n",
       "|     items.sort()                          |\n",
       "|                                           |\n",
       "|                                           |\n",
       "+-------------------------------------------+"
      ]
     },
     "execution_count": 15,
     "metadata": {},
     "output_type": "execute_result"
    }
   ],
   "source": [
    "lst"
   ]
  },
  {
   "cell_type": "code",
   "execution_count": 16,
   "metadata": {
    "collapsed": false
   },
   "outputs": [
    {
     "data": {
      "text/plain": [
       "['Dave', 'Thomas', 'Paula', 'Lewis', 'Dave']"
      ]
     },
     "execution_count": 16,
     "metadata": {},
     "output_type": "execute_result"
    }
   ],
   "source": [
    "names = ['Dave', 'Thomas', 'Paula', 'Lewis', 'Dave']\n",
    "names"
   ]
  },
  {
   "cell_type": "code",
   "execution_count": 17,
   "metadata": {
    "collapsed": false
   },
   "outputs": [
    {
     "data": {
      "text/plain": [
       "+----------------------------------------+\n",
       "|                                        |\n",
       "| \u001b[1m\u001b[3mSet\u001b[0m                                    |\n",
       "|                                        |\n",
       "| \u001b[1mAKA:\u001b[0m                                   |\n",
       "|                                        |\n",
       "|     Set                                |\n",
       "|                                        |\n",
       "| \u001b[1mKNOWN FOR:\u001b[0m                             |\n",
       "|                                        |\n",
       "|     Uniqueness, membership tests       |\n",
       "|                                        |\n",
       "| \u001b[1mBASIC USAGE:\u001b[0m                           |\n",
       "|                                        |\n",
       "|     s = {val1, val2, ..., valn}        |\n",
       "|     s.add(val)                         |\n",
       "|     s.remove(val)                      |\n",
       "|     val in s                           |\n",
       "|                                        |\n",
       "|                                        |\n",
       "+----------------------------------------+"
      ]
     },
     "execution_count": 17,
     "metadata": {},
     "output_type": "execute_result"
    }
   ],
   "source": [
    "st"
   ]
  },
  {
   "cell_type": "code",
   "execution_count": 18,
   "metadata": {
    "collapsed": false
   },
   "outputs": [
    {
     "data": {
      "text/plain": [
       "{'Dave', 'Lewis', 'Paula', 'Thomas'}"
      ]
     },
     "execution_count": 18,
     "metadata": {},
     "output_type": "execute_result"
    }
   ],
   "source": [
    "names = {'Dave', 'Thomas', 'Paula', 'Lewis', 'Dave'}\n",
    "names"
   ]
  },
  {
   "cell_type": "code",
   "execution_count": 19,
   "metadata": {
    "collapsed": false
   },
   "outputs": [
    {
     "data": {
      "text/plain": [
       "+------------------------------------------------------+\n",
       "|                                                      |\n",
       "| \u001b[1m\u001b[3mDict\u001b[0m                                                 |\n",
       "|                                                      |\n",
       "|                                                      |\n",
       "| \u001b[1mAKA:\u001b[0m                                                 |\n",
       "|                                                      |\n",
       "|     Mapping, Associative Array                       |\n",
       "|                                                      |\n",
       "| \u001b[1mKNOWN FOR:\u001b[0m                                           |\n",
       "|                                                      |\n",
       "|     Lookup tables, indices                           |\n",
       "|                                                      |\n",
       "| \u001b[1mBASIC USAGE:\u001b[0m                                         |\n",
       "|                                                      |\n",
       "|     d = {key1: val1, key2 : val2, key3 : val3}       |\n",
       "|     val = d[key]                                     |\n",
       "|     d[key] = val                                     |\n",
       "|     del d[key]                                       |\n",
       "|     key in d                                         |\n",
       "|                                                      |\n",
       "|                                                      |\n",
       "+------------------------------------------------------+"
      ]
     },
     "execution_count": 19,
     "metadata": {},
     "output_type": "execute_result"
    }
   ],
   "source": [
    "dct"
   ]
  },
  {
   "cell_type": "code",
   "execution_count": 20,
   "metadata": {
    "collapsed": true
   },
   "outputs": [],
   "source": [
    "prices = {\n",
    "    'ACME' : 94.23,\n",
    "    'YOW' : 45.2\n",
    "}"
   ]
  },
  {
   "cell_type": "code",
   "execution_count": 21,
   "metadata": {
    "collapsed": false
   },
   "outputs": [
    {
     "data": {
      "text/plain": [
       "94.23"
      ]
     },
     "execution_count": 21,
     "metadata": {},
     "output_type": "execute_result"
    }
   ],
   "source": [
    "prices['ACME']"
   ]
  },
  {
   "cell_type": "code",
   "execution_count": 22,
   "metadata": {
    "collapsed": true
   },
   "outputs": [],
   "source": [
    "from collections import Counter, defaultdict"
   ]
  },
  {
   "cell_type": "code",
   "execution_count": 23,
   "metadata": {
    "collapsed": false
   },
   "outputs": [
    {
     "data": {
      "text/plain": [
       "+--------------------------------------------+\n",
       "|                                            |\n",
       "| \u001b[1m\u001b[3mCounter\u001b[0m                                    |\n",
       "|                                            |\n",
       "| \u001b[1mAKA:\u001b[0m                                       |\n",
       "|                                            |\n",
       "|     collections.Counter                    |\n",
       "|                                            |\n",
       "| \u001b[1mKNOWN FOR:\u001b[0m                                 |\n",
       "|                                            |\n",
       "|     Counting, histograms, tabulation       |\n",
       "|                                            |\n",
       "| \u001b[1mBASIC USAGE:\u001b[0m                               |\n",
       "|                                            |\n",
       "|     c = Counter(sequence)                  |\n",
       "|     c[key] += n                            |\n",
       "|     c.most_common(n)                       |\n",
       "|                                            |\n",
       "+--------------------------------------------+"
      ]
     },
     "execution_count": 23,
     "metadata": {},
     "output_type": "execute_result"
    }
   ],
   "source": [
    "counter"
   ]
  },
  {
   "cell_type": "code",
   "execution_count": 24,
   "metadata": {
    "collapsed": false
   },
   "outputs": [
    {
     "data": {
      "text/plain": [
       "Counter({'x': 1, 'y': 2, 'z': 2})"
      ]
     },
     "execution_count": 24,
     "metadata": {},
     "output_type": "execute_result"
    }
   ],
   "source": [
    "c = Counter('xyzzy')\n",
    "c"
   ]
  },
  {
   "cell_type": "code",
   "execution_count": 25,
   "metadata": {
    "collapsed": false
   },
   "outputs": [
    {
     "data": {
      "text/plain": [
       "Counter({'a': 10, 'b': 13, 'x': 1, 'y': 2, 'z': 2})"
      ]
     },
     "execution_count": 25,
     "metadata": {},
     "output_type": "execute_result"
    }
   ],
   "source": [
    "c['a'] += 10\n",
    "c['b'] += 13\n",
    "c"
   ]
  },
  {
   "cell_type": "code",
   "execution_count": 26,
   "metadata": {
    "collapsed": false
   },
   "outputs": [
    {
     "data": {
      "text/plain": [
       "+--------------------------------------------------------+\n",
       "|                                                        |\n",
       "| \u001b[1m\u001b[3mdefaultdict\u001b[0m                                            |\n",
       "|                                                        |\n",
       "| \u001b[1mAKA:\u001b[0m                                                   |\n",
       "|                                                        |\n",
       "|     collections.defaultdict                            |\n",
       "|                                                        |\n",
       "| \u001b[1mKNOWN FOR:\u001b[0m                                             |\n",
       "|                                                        |\n",
       "|     Multidicts, one-many relationships, grouping       |\n",
       "|                                                        |\n",
       "| \u001b[1mBASIC USAGE:\u001b[0m                                           |\n",
       "|                                                        |\n",
       "|     d = defaultdict(list)                              |\n",
       "|     d[key].append(val)                                 |\n",
       "|     values = d[key]                                    |\n",
       "|                                                        |\n",
       "|     d = defaultdict(set)                               |\n",
       "|     d[key].add(val)                                    |\n",
       "|     unique_values = d[key]                             |\n",
       "|                                                        |\n",
       "|                                                        |\n",
       "+--------------------------------------------------------+"
      ]
     },
     "execution_count": 26,
     "metadata": {},
     "output_type": "execute_result"
    }
   ],
   "source": [
    "defaultdct"
   ]
  },
  {
   "cell_type": "code",
   "execution_count": 27,
   "metadata": {
    "collapsed": true
   },
   "outputs": [],
   "source": [
    "d = defaultdict(list)\n",
    "d['spam'].append(42)\n",
    "d['blah'].append(13)\n",
    "d['spam'].append(13)"
   ]
  },
  {
   "cell_type": "code",
   "execution_count": 28,
   "metadata": {
    "collapsed": false
   },
   "outputs": [
    {
     "data": {
      "text/plain": [
       "defaultdict(list, {'blah': [13], 'spam': [42, 13]})"
      ]
     },
     "execution_count": 28,
     "metadata": {},
     "output_type": "execute_result"
    }
   ],
   "source": [
    "d"
   ]
  },
  {
   "cell_type": "code",
   "execution_count": 29,
   "metadata": {
    "collapsed": false
   },
   "outputs": [
    {
     "data": {
      "text/plain": [
       "+------------------------------------------------------------+\n",
       "|                                                            |\n",
       "| \u001b[1m\u001b[3mBasic Powers\u001b[0m                                               |\n",
       "|                                                            |\n",
       "| \u001b[1mITERATION:\u001b[0m                                                 |\n",
       "|                                                            |\n",
       "|     for item in container:                                 |\n",
       "|         ...                                                |\n",
       "|                                                            |\n",
       "| \u001b[1mVARIANTS:\u001b[0m                                                  |\n",
       "|                                                            |\n",
       "|     for n, item in enumerate(container):                   |\n",
       "|         ...                                                |\n",
       "|                                                            |\n",
       "|     for item1, item2 in zip(container1, container2):       |\n",
       "|         ...                                                |\n",
       "|                                                            |\n",
       "| \u001b[1mREDUCTIONS:\u001b[0m                                                |\n",
       "|                                                            |\n",
       "|     sum(container)                                         |\n",
       "|     min(container)                                         |\n",
       "|     max(container)                                         |\n",
       "|     any(container)                                         |\n",
       "|     all(container)                                         |\n",
       "|                                                            |\n",
       "|                                                            |\n",
       "+------------------------------------------------------------+"
      ]
     },
     "execution_count": 29,
     "metadata": {},
     "output_type": "execute_result"
    }
   ],
   "source": [
    "powers"
   ]
  },
  {
   "cell_type": "code",
   "execution_count": 30,
   "metadata": {
    "collapsed": false
   },
   "outputs": [
    {
     "data": {
      "text/plain": [
       "+-------------------------------------------------------------+\n",
       "|                                                             |\n",
       "| \u001b[1m\u001b[3mSuperpowers\u001b[0m                                                 |\n",
       "|                                                             |\n",
       "| \u001b[1mLIST COMPREHENSION:\u001b[0m                                         |\n",
       "|                                                             |\n",
       "|     [ expression for c in iterable if condition ]           |\n",
       "|                                                             |\n",
       "| \u001b[1mSET COMPREHENSION:\u001b[0m                                          |\n",
       "|                                                             |\n",
       "|     { expression for ci in iterable if condition }          |\n",
       "|                                                             |\n",
       "| \u001b[1mDICT COMPREHENSION:\u001b[0m                                         |\n",
       "|                                                             |\n",
       "|     { key:val for key, val in iterable if condition }       |\n",
       "|                                                             |\n",
       "|                                                             |\n",
       "|                                                             |\n",
       "+-------------------------------------------------------------+"
      ]
     },
     "execution_count": 30,
     "metadata": {},
     "output_type": "execute_result"
    }
   ],
   "source": [
    "superpowers"
   ]
  },
  {
   "cell_type": "code",
   "execution_count": 31,
   "metadata": {
    "collapsed": true
   },
   "outputs": [],
   "source": [
    "nums = [1,2,3,4,5,6]"
   ]
  },
  {
   "cell_type": "code",
   "execution_count": 32,
   "metadata": {
    "collapsed": false
   },
   "outputs": [],
   "source": [
    "squares = [x*x for x in nums]"
   ]
  },
  {
   "cell_type": "code",
   "execution_count": 33,
   "metadata": {
    "collapsed": false
   },
   "outputs": [
    {
     "data": {
      "text/plain": [
       "[1, 4, 9, 16, 25, 36]"
      ]
     },
     "execution_count": 33,
     "metadata": {},
     "output_type": "execute_result"
    }
   ],
   "source": [
    "squares"
   ]
  },
  {
   "cell_type": "code",
   "execution_count": 34,
   "metadata": {
    "collapsed": false
   },
   "outputs": [
    {
     "data": {
      "text/plain": [
       "+-------------------------------------------------------------------+\n",
       "|                                                                   |\n",
       "| \u001b[1m\u001b[3mIterpowers\u001b[0m                                                        |\n",
       "|                                                                   |\n",
       "| \u001b[1mGENERATOR EXPRESSION\u001b[0m                                              |\n",
       "|                                                                   |\n",
       "|     ( expression for x in iterable if condition )                 |\n",
       "|                                                                   |\n",
       "| \u001b[1mCOMBINED WITH REDUCTION:\u001b[0m                                          |\n",
       "|                                                                   |\n",
       "|     sum( expression for x in iterable if condition )              |\n",
       "|                                                                   |\n",
       "| \u001b[1m\u001b[5mPROTIP:\u001b[0m                                                           |\n",
       "|                                                                   |\n",
       "|     Generator expressions allow you to process huge amounts       |\n",
       "|     of data incrementally--saving a ton of memory.                |\n",
       "|                                                                   |\n",
       "|                                                                   |\n",
       "|                                                                   |\n",
       "+-------------------------------------------------------------------+"
      ]
     },
     "execution_count": 34,
     "metadata": {},
     "output_type": "execute_result"
    }
   ],
   "source": [
    "iterpowers"
   ]
  },
  {
   "cell_type": "code",
   "execution_count": 35,
   "metadata": {
    "collapsed": false
   },
   "outputs": [
    {
     "data": {
      "text/plain": [
       "<generator object <genexpr> at 0x104928fc0>"
      ]
     },
     "execution_count": 35,
     "metadata": {},
     "output_type": "execute_result"
    }
   ],
   "source": [
    "squares = (x*x for x in nums)\n",
    "squares"
   ]
  },
  {
   "cell_type": "code",
   "execution_count": 36,
   "metadata": {
    "collapsed": false
   },
   "outputs": [
    {
     "name": "stdout",
     "output_type": "stream",
     "text": [
      "1\n",
      "4\n",
      "9\n",
      "16\n",
      "25\n",
      "36\n"
     ]
    }
   ],
   "source": [
    "for n in squares:\n",
    "    print(n)"
   ]
  },
  {
   "cell_type": "code",
   "execution_count": 37,
   "metadata": {
    "collapsed": false
   },
   "outputs": [
    {
     "data": {
      "text/plain": [
       "+----------------------------------------------------------------+\n",
       "|                                                                |\n",
       "| CITY Data Portal                                               |\n",
       "|                                                                |\n",
       "|                                                                |\n",
       "|     +-----------+   +-------------+  +---------------+         |\n",
       "|     |....       |   | ^/\\/^^\\_/^^\\|  |  /\\           |         |\n",
       "|     |....       |   |=====        |  | /  \\  /\\      |         |\n",
       "|     |....       |   |=========    |  |/    \\/  \\     |         |\n",
       "|     +-----------+   +-------------+  +---------------+         |\n",
       "|    Historical data  Summary data     Lab data                  |\n",
       "|                                                                |\n",
       "|    +------------+  +-----------------------------------+       |\n",
       "|    | Datasets   |  | Search & Browse Datasets and Views|       |\n",
       "|    | Charts     |  |                                   |       |\n",
       "|    | Maps       |  | 1. Employee Names and Salaries    |       |\n",
       "|    | Calendars  |  | 2. Crimes - 2001 to present       |       |\n",
       "|    | ...        |  | 3. Food Inspections               |       |\n",
       "|    |            |  | 4. Building permits               |       |\n",
       "|                                                                |\n",
       "|                                                                |\n",
       "+----------------------------------------------------------------+"
      ]
     },
     "execution_count": 37,
     "metadata": {},
     "output_type": "execute_result"
    }
   ],
   "source": [
    "data"
   ]
  },
  {
   "cell_type": "code",
   "execution_count": 38,
   "metadata": {
    "collapsed": false
   },
   "outputs": [
    {
     "data": {
      "text/plain": [
       "+----------------------------------------------------------------------------------------+\n",
       "|                                                                                        |\n",
       "|                                                                                        |\n",
       "|                                                                                        |\n",
       "|                                                                                        |\n",
       "|                                                                                        |\n",
       "|                                                                                        |\n",
       "|             \u001b[1m\u001b[3mLet's Play!\u001b[0m                                                                |\n",
       "|                                                                                        |\n",
       "|                  City of Chicago Food Inspections                                      |\n",
       "|  https://data.cityofchicago.org/Health-Human-Services/Food-Inspections/4ijn-s7e5       |\n",
       "|                                                                                        |\n",
       "|            A 157MB CSV file with about 130000 rows of data.                            |\n",
       "|                                                                                        |\n",
       "|                                                                                        |\n",
       "+----------------------------------------------------------------------------------------+"
      ]
     },
     "execution_count": 38,
     "metadata": {},
     "output_type": "execute_result"
    }
   ],
   "source": [
    "play"
   ]
  },
  {
   "cell_type": "code",
   "execution_count": 39,
   "metadata": {
    "collapsed": true
   },
   "outputs": [],
   "source": [
    "import csv\n",
    "food = list(csv.DictReader(open('Food_inspections.csv')))"
   ]
  },
  {
   "cell_type": "code",
   "execution_count": 40,
   "metadata": {
    "collapsed": false
   },
   "outputs": [
    {
     "data": {
      "text/plain": [
       "133066"
      ]
     },
     "execution_count": 40,
     "metadata": {},
     "output_type": "execute_result"
    }
   ],
   "source": [
    "len(food)"
   ]
  },
  {
   "cell_type": "code",
   "execution_count": 41,
   "metadata": {
    "collapsed": false
   },
   "outputs": [
    {
     "data": {
      "text/plain": [
       "{'AKA Name': 'UNITED CLUB  (T1  B6)',\n",
       " 'Address': '11601 W TOUHY AVE ',\n",
       " 'City': 'CHICAGO',\n",
       " 'DBA Name': 'UNITED CLUB',\n",
       " 'Facility Type': 'Restaurant',\n",
       " 'Inspection Date': '10/13/2016',\n",
       " 'Inspection ID': '1966377',\n",
       " 'Inspection Type': 'License',\n",
       " 'Latitude': '42.008536400868735',\n",
       " 'License #': '2492754',\n",
       " 'Location': '(42.008536400868735, -87.91442843927047)',\n",
       " 'Longitude': '-87.91442843927047',\n",
       " 'Results': 'Fail',\n",
       " 'Risk': 'Risk 1 (High)',\n",
       " 'State': 'IL',\n",
       " 'Violations': '',\n",
       " 'Zip': '60666'}"
      ]
     },
     "execution_count": 41,
     "metadata": {},
     "output_type": "execute_result"
    }
   ],
   "source": [
    "food[0]"
   ]
  },
  {
   "cell_type": "code",
   "execution_count": 42,
   "metadata": {
    "collapsed": false
   },
   "outputs": [
    {
     "data": {
      "text/plain": [
       "{'AKA Name': 'UNITED CLUB  (T1  B6)',\n",
       " 'Address': '11601 W TOUHY AVE ',\n",
       " 'City': 'CHICAGO',\n",
       " 'DBA Name': 'UNITED CLUB',\n",
       " 'Facility Type': 'Restaurant',\n",
       " 'Inspection Date': '10/13/2016',\n",
       " 'Inspection ID': '1966366',\n",
       " 'Inspection Type': 'License',\n",
       " 'Latitude': '42.008536400868735',\n",
       " 'License #': '2492753',\n",
       " 'Location': '(42.008536400868735, -87.91442843927047)',\n",
       " 'Longitude': '-87.91442843927047',\n",
       " 'Results': 'Fail',\n",
       " 'Risk': 'Risk 1 (High)',\n",
       " 'State': 'IL',\n",
       " 'Violations': '18. NO EVIDENCE OF RODENT OR INSECT OUTER OPENINGS PROTECTED/RODENT PROOFED, A WRITTEN LOG SHALL BE MAINTAINED AVAILABLE TO THE INSPECTORS - Comments: FOUND NO LICENSED PEST CONTROL WRITTEN LOG BOOK AVAILABLE AT THIS TIME. INSTRUCTED TO PROVIDE WITH CURRENT SERVICE ON SITE. \\nSERIOUS VIOLATION 7-38-020 | 2. FACILITIES TO MAINTAIN PROPER TEMPERATURE - Comments: FACILITIES (COOLERS AND FREEZERS) MUST BE TURNED ON WITH COLD HOLDING TEMPERATURE OF 40F OR BELOW AND FREEZING TEMPERATURE OF 0F OR BELOW.\\nCRITICAL VIOLATION 7-38-005(A) | 11. ADEQUATE NUMBER, CONVENIENT, ACCESSIBLE, DESIGNED, AND MAINTAINED - Comments: INSTRUCTED TO INSTALL EXPOSED HAND SINK WITH HOT AND COLD RUNNING WATER EQUIPPED WITH HAND SOAP AND HAND DRYING DEVICE OR PAPER TOWEL IN BEVERAGE (COFFEE) PREP AREA.\\nCRITICAL VIOLATION 7-38-030 | 32. FOOD AND NON-FOOD CONTACT SURFACES PROPERLY DESIGNED, CONSTRUCTED AND MAINTAINED - Comments: INSTRUCTED TO PROVIDE TIGHT FITTING COVER/LID FOR ICE BIN BEHIND BAR. | 38. VENTILATION: ROOMS AND EQUIPMENT VENTED AS REQUIRED: PLUMBING: INSTALLED AND MAINTAINED - Comments: INSTRUCTED TO PROPERLY DRAIN BEVERAGE DRAIN LINE ONTO FLOOR DRAIN BEHIND BAR. | 22. DISH MACHINES: PROVIDED WITH ACCURATE THERMOMETERS, CHEMICAL TEST KITS AND SUITABLE GAUGE COCK - Comments: INSTRUCTED TO REPAIR INOPERABLE TEMPERATURE GAUGE OF LOW TEMPERATURE DISH MACHINE BEHIND BAR.\\nSERIOUS VIOLATION 7-38-030 ',\n",
       " 'Zip': '60666'}"
      ]
     },
     "execution_count": 42,
     "metadata": {},
     "output_type": "execute_result"
    }
   ],
   "source": [
    "food[3]"
   ]
  },
  {
   "cell_type": "code",
   "execution_count": 43,
   "metadata": {
    "collapsed": false
   },
   "outputs": [
    {
     "data": {
      "text/plain": [
       "{'Business Not Located',\n",
       " 'Fail',\n",
       " 'No Entry',\n",
       " 'Not Ready',\n",
       " 'Out of Business',\n",
       " 'Pass',\n",
       " 'Pass w/ Conditions'}"
      ]
     },
     "execution_count": 43,
     "metadata": {},
     "output_type": "execute_result"
    }
   ],
   "source": [
    "{row['Results'] for row in food}"
   ]
  },
  {
   "cell_type": "code",
   "execution_count": 44,
   "metadata": {
    "collapsed": true
   },
   "outputs": [],
   "source": [
    "fail = [row for row in food if row['Results'] == 'Fail']"
   ]
  },
  {
   "cell_type": "code",
   "execution_count": 45,
   "metadata": {
    "collapsed": false
   },
   "outputs": [
    {
     "data": {
      "text/plain": [
       "25933"
      ]
     },
     "execution_count": 45,
     "metadata": {},
     "output_type": "execute_result"
    }
   ],
   "source": [
    "len(fail)"
   ]
  },
  {
   "cell_type": "code",
   "execution_count": 46,
   "metadata": {
    "collapsed": false
   },
   "outputs": [
    {
     "data": {
      "text/plain": [
       "{'AKA Name': 'UNITED CLUB  (T1  B6)',\n",
       " 'Address': '11601 W TOUHY AVE ',\n",
       " 'City': 'CHICAGO',\n",
       " 'DBA Name': 'UNITED CLUB',\n",
       " 'Facility Type': 'Restaurant',\n",
       " 'Inspection Date': '10/13/2016',\n",
       " 'Inspection ID': '1966377',\n",
       " 'Inspection Type': 'License',\n",
       " 'Latitude': '42.008536400868735',\n",
       " 'License #': '2492754',\n",
       " 'Location': '(42.008536400868735, -87.91442843927047)',\n",
       " 'Longitude': '-87.91442843927047',\n",
       " 'Results': 'Fail',\n",
       " 'Risk': 'Risk 1 (High)',\n",
       " 'State': 'IL',\n",
       " 'Violations': '',\n",
       " 'Zip': '60666'}"
      ]
     },
     "execution_count": 46,
     "metadata": {},
     "output_type": "execute_result"
    }
   ],
   "source": [
    "fail[0]"
   ]
  },
  {
   "cell_type": "code",
   "execution_count": 47,
   "metadata": {
    "collapsed": true
   },
   "outputs": [],
   "source": [
    "worst = Counter(row['DBA Name'] for row in fail)"
   ]
  },
  {
   "cell_type": "code",
   "execution_count": 48,
   "metadata": {
    "collapsed": false
   },
   "outputs": [
    {
     "data": {
      "text/plain": [
       "[('SUBWAY', 211),\n",
       " ('DUNKIN DONUTS', 138),\n",
       " (\"MCDONALD'S\", 93),\n",
       " ('7-ELEVEN', 46),\n",
       " ('MCDONALDS', 40)]"
      ]
     },
     "execution_count": 48,
     "metadata": {},
     "output_type": "execute_result"
    }
   ],
   "source": [
    "worst.most_common(5)"
   ]
  },
  {
   "cell_type": "code",
   "execution_count": 49,
   "metadata": {
    "collapsed": false
   },
   "outputs": [
    {
     "data": {
      "text/plain": [
       "[('SUBWAY', 211),\n",
       " ('DUNKIN DONUTS', 138),\n",
       " (\"MCDONALD'S\", 93),\n",
       " ('7-ELEVEN', 46),\n",
       " ('MCDONALDS', 40),\n",
       " ('POTBELLY SANDWICH WORKS LLC', 34),\n",
       " ('CHIPOTLE MEXICAN GRILL', 34),\n",
       " (\"HAROLD'S CHICKEN SHACK\", 33),\n",
       " ('CITGO', 31),\n",
       " (\"McDONALD'S\", 28),\n",
       " (\"PAPA JOHN'S PIZZA\", 27),\n",
       " ('KFC', 24),\n",
       " ('Subway', 23),\n",
       " ('DUNKIN DONUTS/BASKIN ROBBINS', 23),\n",
       " (\"DOMINO'S PIZZA\", 23)]"
      ]
     },
     "execution_count": 49,
     "metadata": {},
     "output_type": "execute_result"
    }
   ],
   "source": [
    "worst.most_common(15)"
   ]
  },
  {
   "cell_type": "code",
   "execution_count": 54,
   "metadata": {
    "collapsed": false
   },
   "outputs": [],
   "source": [
    "# this is where we take a short break for commercials as we update to python3.5\n",
    "\n",
    "fail = [ { **row, 'DBA Name': row['DBA Name'].replace(\"'\",'').upper() }\n",
    "         for row in fail ]"
   ]
  },
  {
   "cell_type": "code",
   "execution_count": null,
   "metadata": {
    "collapsed": false
   },
   "outputs": [],
   "source": [
    "worst = Counter(row['DBA Name'] for row in fail)"
   ]
  },
  {
   "cell_type": "code",
   "execution_count": 55,
   "metadata": {
    "collapsed": false
   },
   "outputs": [
    {
     "data": {
      "text/plain": [
       "[('SUBWAY', 211),\n",
       " ('DUNKIN DONUTS', 138),\n",
       " (\"MCDONALD'S\", 93),\n",
       " ('7-ELEVEN', 46),\n",
       " ('MCDONALDS', 40)]"
      ]
     },
     "execution_count": 55,
     "metadata": {},
     "output_type": "execute_result"
    }
   ],
   "source": [
    "worst.most_common(5)"
   ]
  },
  {
   "cell_type": "code",
   "execution_count": 56,
   "metadata": {
    "collapsed": false
   },
   "outputs": [
    {
     "data": {
      "text/plain": [
       "[('SUBWAY', 211),\n",
       " ('DUNKIN DONUTS', 138),\n",
       " (\"MCDONALD'S\", 93),\n",
       " ('7-ELEVEN', 46),\n",
       " ('MCDONALDS', 40),\n",
       " ('POTBELLY SANDWICH WORKS LLC', 34),\n",
       " ('CHIPOTLE MEXICAN GRILL', 34),\n",
       " (\"HAROLD'S CHICKEN SHACK\", 33),\n",
       " ('CITGO', 31),\n",
       " (\"McDONALD'S\", 28),\n",
       " (\"PAPA JOHN'S PIZZA\", 27),\n",
       " ('KFC', 24),\n",
       " ('Subway', 23),\n",
       " ('DUNKIN DONUTS/BASKIN ROBBINS', 23),\n",
       " (\"DOMINO'S PIZZA\", 23),\n",
       " ('MARATHON', 22),\n",
       " ('LAS ISLAS MARIAS', 22),\n",
       " ('DUNKIN DONUTS / BASKIN ROBBINS', 21),\n",
       " ('POTBELLY SANDWICH WORKS', 21),\n",
       " ('FOREVER YOGURT', 21)]"
      ]
     },
     "execution_count": 56,
     "metadata": {},
     "output_type": "execute_result"
    }
   ],
   "source": [
    "worst.most_common(20)"
   ]
  },
  {
   "cell_type": "code",
   "execution_count": 57,
   "metadata": {
    "collapsed": true
   },
   "outputs": [],
   "source": [
    "bad = Counter(row['Address'] for row in fail)"
   ]
  },
  {
   "cell_type": "code",
   "execution_count": 58,
   "metadata": {
    "collapsed": false
   },
   "outputs": [
    {
     "data": {
      "text/plain": [
       "[('11601 W TOUHY AVE ', 200),\n",
       " ('324 N LEAVITT ST ', 62),\n",
       " ('500 W MADISON ST ', 59),\n",
       " ('2300 S THROOP ST ', 37),\n",
       " ('2637 S THROOP ST ', 33)]"
      ]
     },
     "execution_count": 58,
     "metadata": {},
     "output_type": "execute_result"
    }
   ],
   "source": [
    "bad.most_common(5)"
   ]
  },
  {
   "cell_type": "code",
   "execution_count": 59,
   "metadata": {
    "collapsed": true
   },
   "outputs": [],
   "source": [
    "by_year = defaultdict(Counter)"
   ]
  },
  {
   "cell_type": "code",
   "execution_count": 64,
   "metadata": {
    "collapsed": true
   },
   "outputs": [],
   "source": [
    "for row in fail:\n",
    "    by_year[row['Inspection Date'][-4:]][row['Address']] += 1"
   ]
  },
  {
   "cell_type": "code",
   "execution_count": 65,
   "metadata": {
    "collapsed": false
   },
   "outputs": [
    {
     "data": {
      "text/plain": [
       "[('11601 W TOUHY AVE ', 39),\n",
       " ('500 W MADISON ST ', 12),\n",
       " ('324 N LEAVITT ST ', 9),\n",
       " ('307 S KEDZIE AVE ', 9),\n",
       " ('12 S MICHIGAN AVE ', 8)]"
      ]
     },
     "execution_count": 65,
     "metadata": {},
     "output_type": "execute_result"
    }
   ],
   "source": [
    "by_year['2015'].most_common(5)"
   ]
  },
  {
   "cell_type": "code",
   "execution_count": 66,
   "metadata": {
    "collapsed": false
   },
   "outputs": [
    {
     "data": {
      "text/plain": [
       "[('11601 W TOUHY AVE ', 32),\n",
       " ('500 W MADISON ST ', 17),\n",
       " ('324 N LEAVITT ST ', 15),\n",
       " ('113-125 N GREEN ST ', 12),\n",
       " ('131 N CLINTON ST ', 10)]"
      ]
     },
     "execution_count": 66,
     "metadata": {},
     "output_type": "execute_result"
    }
   ],
   "source": [
    "by_year['2014'].most_common(5)"
   ]
  },
  {
   "cell_type": "code",
   "execution_count": 67,
   "metadata": {
    "collapsed": false
   },
   "outputs": [
    {
     "data": {
      "text/plain": [
       "'11601 W TOUHY AVE '"
      ]
     },
     "execution_count": 67,
     "metadata": {},
     "output_type": "execute_result"
    }
   ],
   "source": [
    "_[0][0]"
   ]
  },
  {
   "cell_type": "code",
   "execution_count": 68,
   "metadata": {
    "collapsed": true
   },
   "outputs": [],
   "source": [
    "ohare = [ row for row in fail if row['Address'].startswith('11601 W TOUHY')]"
   ]
  },
  {
   "cell_type": "code",
   "execution_count": 69,
   "metadata": {
    "collapsed": false
   },
   "outputs": [
    {
     "data": {
      "text/plain": [
       "201"
      ]
     },
     "execution_count": 69,
     "metadata": {},
     "output_type": "execute_result"
    }
   ],
   "source": [
    "len(ohare)"
   ]
  },
  {
   "cell_type": "code",
   "execution_count": 70,
   "metadata": {
    "collapsed": false
   },
   "outputs": [
    {
     "data": {
      "text/plain": [
       "{'11601 W TOUHY AVE ', '11601 W TOUHY AVE T2 F12'}"
      ]
     },
     "execution_count": 70,
     "metadata": {},
     "output_type": "execute_result"
    }
   ],
   "source": [
    "{ row['Address'] for row in ohare}"
   ]
  },
  {
   "cell_type": "code",
   "execution_count": 71,
   "metadata": {
    "collapsed": false,
    "scrolled": false
   },
   "outputs": [
    {
     "data": {
      "text/plain": [
       "{'AMERICAN AIRLINES',\n",
       " 'AMERICAS DOG',\n",
       " 'ANDIAMOS OHARE, LLC',\n",
       " 'ARAMARK AT UNITED AIRLINES',\n",
       " 'ARGO TEA',\n",
       " 'ARGO TEA CAFE-OHARE T2',\n",
       " 'AUNTIE ANNES',\n",
       " 'AUNTIE ANNES PRETZELS',\n",
       " 'B JS  MARKET',\n",
       " 'BRITISH AIRWAYS',\n",
       " 'BURRITO BEACH',\n",
       " 'CAFFE  MERCATO',\n",
       " 'CHICAGO BLACKHAWKS STANLEYS T2 BAR',\n",
       " 'CHICAGO NEWS & GIFTS',\n",
       " 'CHILIS T - 3',\n",
       " 'CHILIS T-I',\n",
       " 'CHILIS- G CONCOURSE',\n",
       " 'CNN',\n",
       " 'EFIES CANTEEN INC',\n",
       " 'ELIS CHEESECAKE',\n",
       " 'FARMERS FRIDGE',\n",
       " 'FRESH ON THE FLY',\n",
       " 'FRONTERA TORTAS  BY RICK BAYLESS GATE K4 T3',\n",
       " 'FRONTERA TORTAS BY RICK  BAYLESS',\n",
       " 'GARRETT POPCORN SHOPS',\n",
       " 'GATEGOURMET',\n",
       " 'GOLD COAST DOGS',\n",
       " 'GREEN MARKET',\n",
       " 'HILTON OHARE',\n",
       " 'HOST INTERNATIONAL B05',\n",
       " 'HOST INTERNATIONAL INC',\n",
       " 'HOST INTERNATIONAL INC, CHILIS T-2',\n",
       " 'HOST INTERNATIONAL INC-GOOSE ISLAND T3',\n",
       " 'HOST INTERNATIONAL INC-PRAIRIE TAP',\n",
       " 'HOST INTERNATIONAL INC.',\n",
       " 'HOT DOG EXPRESS',\n",
       " 'HUDSON',\n",
       " 'HUDSON NEWS',\n",
       " 'HUDSON NEWS OHARE JOINT VENTURE',\n",
       " 'ICE BAR',\n",
       " 'INTELLIGENTSIA',\n",
       " 'JAMBA JUICE',\n",
       " 'KOREAN AIR LOUNGE',\n",
       " 'LA TAPENADE GATE H14',\n",
       " 'LA TAPENADES GATE H14',\n",
       " 'LOU MITCHELLS EXPRESS INC',\n",
       " 'MACARONI GRILL',\n",
       " 'MCDONALDS',\n",
       " 'MCDONALDS # 12785',\n",
       " 'MCDONALDS # 17274',\n",
       " 'MCDONALDS RESTAURANT',\n",
       " 'NATURAL BREAK',\n",
       " 'NUTS ON CLARK',\n",
       " 'OHARE BAR',\n",
       " 'OHARE HILTON HOTEL',\n",
       " 'PARADES A CHICAGO BAR',\n",
       " 'PUBLICAN TAVERN K1',\n",
       " 'REGGIOS PIZZA EXPRESS',\n",
       " 'ROCKY MOUNTAIN CHOCOLATE FACTORY',\n",
       " 'RUSH STREET',\n",
       " 'SALAD WORKS',\n",
       " 'SARAHS CANDIES',\n",
       " 'SAS',\n",
       " 'SKYBRIDGE RESTAURANT & BAR',\n",
       " 'STARBUCKS',\n",
       " 'STARBUCKS HK APEX',\n",
       " 'STARBUCKS L03',\n",
       " 'SUBWAY SANDWICH',\n",
       " 'THE GODDESS & GROCER',\n",
       " 'THE GREAT AMERICAN BAGEL',\n",
       " 'TOCCO',\n",
       " 'TORTAS FRONTERA',\n",
       " 'TRAVEL TRADERS #3081 @ HILTON OHARE',\n",
       " 'TUSCANY CAFE',\n",
       " 'UNITED CLUB',\n",
       " 'UNITED CLUB ,T-1  CONCOURSE C',\n",
       " 'UNITED CLUB, TERMINAL 2 CONCOURSE F',\n",
       " 'UNITED CLUB,TERMINAL 1 CONCOURSE B SOUTH',\n",
       " 'UNITED FIRST INTERNATIONAL LOUNGE T1,CONCOURSE C',\n",
       " 'WOLFGANG EXPRESS',\n",
       " 'WOLFGANG PUCK, T-3',\n",
       " 'ZOOTS'}"
      ]
     },
     "execution_count": 71,
     "metadata": {},
     "output_type": "execute_result"
    }
   ],
   "source": [
    "{ row['DBA Name'] for row in ohare}"
   ]
  },
  {
   "cell_type": "code",
   "execution_count": 72,
   "metadata": {
    "collapsed": true
   },
   "outputs": [],
   "source": [
    "c = Counter(row['AKA Name'] for row in ohare)"
   ]
  },
  {
   "cell_type": "code",
   "execution_count": 73,
   "metadata": {
    "collapsed": false
   },
   "outputs": [
    {
     "data": {
      "text/plain": [
       "[('MACARONI GRILL (T3-K2)', 6),\n",
       " ('United Employee Cafeteria (T1 C LL)', 6),\n",
       " ('Gategourmet (BLDG 741)', 5),\n",
       " ('ADMIRALS CLUB/AMERICAN AIRLINES (T3/H&K)', 5),\n",
       " (\"CHILI'S (T1-B14)\", 4),\n",
       " ('WOLFGANG PUCK (T3 K1)', 4),\n",
       " ('BURRITO BEACH/B SMOOTH (T3 H&K FOOD COURT)', 4),\n",
       " ('HUDSON NEWS', 4),\n",
       " (\"CHILI'S  TOO (T3-H2)\", 4),\n",
       " (\"HILTON O'HARE\", 4)]"
      ]
     },
     "execution_count": 73,
     "metadata": {},
     "output_type": "execute_result"
    }
   ],
   "source": [
    "c.most_common(10)"
   ]
  },
  {
   "cell_type": "code",
   "execution_count": 75,
   "metadata": {
    "collapsed": false
   },
   "outputs": [
    {
     "data": {
      "text/plain": [
       "{'AKA Name': 'UNITED CLUB  (T1  B6)',\n",
       " 'Address': '11601 W TOUHY AVE ',\n",
       " 'City': 'CHICAGO',\n",
       " 'DBA Name': 'UNITED CLUB',\n",
       " 'Facility Type': 'Restaurant',\n",
       " 'Inspection Date': '10/13/2016',\n",
       " 'Inspection ID': '1966377',\n",
       " 'Inspection Type': 'License',\n",
       " 'Latitude': '42.008536400868735',\n",
       " 'License #': '2492754',\n",
       " 'Location': '(42.008536400868735, -87.91442843927047)',\n",
       " 'Longitude': '-87.91442843927047',\n",
       " 'Results': 'Fail',\n",
       " 'Risk': 'Risk 1 (High)',\n",
       " 'State': 'IL',\n",
       " 'Violations': '',\n",
       " 'Zip': '60666'}"
      ]
     },
     "execution_count": 75,
     "metadata": {},
     "output_type": "execute_result"
    }
   ],
   "source": [
    "ohare[0]"
   ]
  },
  {
   "cell_type": "code",
   "execution_count": 76,
   "metadata": {
    "collapsed": true
   },
   "outputs": [],
   "source": [
    "inspections = defaultdict(list)"
   ]
  },
  {
   "cell_type": "code",
   "execution_count": 77,
   "metadata": {
    "collapsed": true
   },
   "outputs": [],
   "source": [
    "for row in ohare:\n",
    "    inspections[row['License #']].append(row)"
   ]
  },
  {
   "cell_type": "code",
   "execution_count": 78,
   "metadata": {
    "collapsed": false
   },
   "outputs": [
    {
     "data": {
      "text/plain": [
       "[{'AKA Name': \"REGGIO'S PIZZA EXPRESS (T3 G3)\",\n",
       "  'Address': '11601 W TOUHY AVE ',\n",
       "  'City': 'CHICAGO',\n",
       "  'DBA Name': 'REGGIOS PIZZA EXPRESS',\n",
       "  'Facility Type': 'Restaurant',\n",
       "  'Inspection Date': '08/16/2016',\n",
       "  'Inspection ID': '1950494',\n",
       "  'Inspection Type': 'License',\n",
       "  'Latitude': '42.008536400868735',\n",
       "  'License #': '2428080',\n",
       "  'Location': '(42.008536400868735, -87.91442843927047)',\n",
       "  'Longitude': '-87.91442843927047',\n",
       "  'Results': 'Fail',\n",
       "  'Risk': 'Risk 1 (High)',\n",
       "  'State': 'IL',\n",
       "  'Violations': '',\n",
       "  'Zip': '60666'}]"
      ]
     },
     "execution_count": 78,
     "metadata": {},
     "output_type": "execute_result"
    }
   ],
   "source": [
    "inspections['2428080']"
   ]
  },
  {
   "cell_type": "code",
   "execution_count": 80,
   "metadata": {
    "collapsed": false
   },
   "outputs": [
    {
     "data": {
      "text/plain": [
       "dict_keys(['37170', '34154', '2192969', '2289525', '1947515', '2114331', '2289511', '34211', '2016727', '2125489', '1042895', '34224', '29570', '34212', '34169', '2013206', '1621425', '34173', '1927556', '56367', '2017724', '1909539', '2204037', '1926528', '34199', '2109577', '2492754', '2232035', '1381615', '2124567', '34190', '2277391', '1718776', '2487937', '2284294', '2016729', '34201', '2363762', '2184012', '1888807', '2016732', '1142116', '34139', '2289524', '1333242', '2141979', '2232034', '1333098', '2487932', '56366', '1898075', '15531', '34229', '85188', '1224624', '2124574', '34203', '2289520', '2299087', '1120626', '2492753', '34142', '2428079', '34146', '1879167', '2103989', '2447055', '1909532', '34183', '64032', '2289527', '2363766', '2487848', '34205', '34167', '2363760', '1885160', '1954648', '34210', '1333235', '2192963', '2451545', '1884293', '1879164', '51206', '34192', '1884292', '23894', '1069379', '2192968', '2289515', '1675026', '2013208', '34234', '1942304', '1141505', '2021757', '2069938', '2261728', '2009092', '1879166', '1878675', '1974743', '2261733', '2463991', '0', '2277363', '1333092', '2487849', '2125246', '2284027', '2428080', '2289084', '2289531', '2009095', '1916161', '34220', '2289495', '1916219', '1069382', '2363771'])"
      ]
     },
     "execution_count": 80,
     "metadata": {},
     "output_type": "execute_result"
    }
   ],
   "source": [
    "inspections.keys()"
   ]
  },
  {
   "cell_type": "code",
   "execution_count": 81,
   "metadata": {
    "collapsed": false
   },
   "outputs": [
    {
     "data": {
      "text/plain": [
       "['04/07/2016', '09/04/2014', '09/20/2011', '01/26/2010']"
      ]
     },
     "execution_count": 81,
     "metadata": {},
     "output_type": "execute_result"
    }
   ],
   "source": [
    "[row['Inspection Date'] for row in inspections['34192']]"
   ]
  },
  {
   "cell_type": "code",
   "execution_count": 82,
   "metadata": {
    "collapsed": false
   },
   "outputs": [
    {
     "data": {
      "text/plain": [
       "{'AKA Name': 'UNITED CLUB  (T1  B6)',\n",
       " 'Address': '11601 W TOUHY AVE ',\n",
       " 'City': 'CHICAGO',\n",
       " 'DBA Name': 'UNITED CLUB',\n",
       " 'Facility Type': 'Restaurant',\n",
       " 'Inspection Date': '10/13/2016',\n",
       " 'Inspection ID': '1966366',\n",
       " 'Inspection Type': 'License',\n",
       " 'Latitude': '42.008536400868735',\n",
       " 'License #': '2492753',\n",
       " 'Location': '(42.008536400868735, -87.91442843927047)',\n",
       " 'Longitude': '-87.91442843927047',\n",
       " 'Results': 'Fail',\n",
       " 'Risk': 'Risk 1 (High)',\n",
       " 'State': 'IL',\n",
       " 'Violations': '18. NO EVIDENCE OF RODENT OR INSECT OUTER OPENINGS PROTECTED/RODENT PROOFED, A WRITTEN LOG SHALL BE MAINTAINED AVAILABLE TO THE INSPECTORS - Comments: FOUND NO LICENSED PEST CONTROL WRITTEN LOG BOOK AVAILABLE AT THIS TIME. INSTRUCTED TO PROVIDE WITH CURRENT SERVICE ON SITE. \\nSERIOUS VIOLATION 7-38-020 | 2. FACILITIES TO MAINTAIN PROPER TEMPERATURE - Comments: FACILITIES (COOLERS AND FREEZERS) MUST BE TURNED ON WITH COLD HOLDING TEMPERATURE OF 40F OR BELOW AND FREEZING TEMPERATURE OF 0F OR BELOW.\\nCRITICAL VIOLATION 7-38-005(A) | 11. ADEQUATE NUMBER, CONVENIENT, ACCESSIBLE, DESIGNED, AND MAINTAINED - Comments: INSTRUCTED TO INSTALL EXPOSED HAND SINK WITH HOT AND COLD RUNNING WATER EQUIPPED WITH HAND SOAP AND HAND DRYING DEVICE OR PAPER TOWEL IN BEVERAGE (COFFEE) PREP AREA.\\nCRITICAL VIOLATION 7-38-030 | 32. FOOD AND NON-FOOD CONTACT SURFACES PROPERLY DESIGNED, CONSTRUCTED AND MAINTAINED - Comments: INSTRUCTED TO PROVIDE TIGHT FITTING COVER/LID FOR ICE BIN BEHIND BAR. | 38. VENTILATION: ROOMS AND EQUIPMENT VENTED AS REQUIRED: PLUMBING: INSTALLED AND MAINTAINED - Comments: INSTRUCTED TO PROPERLY DRAIN BEVERAGE DRAIN LINE ONTO FLOOR DRAIN BEHIND BAR. | 22. DISH MACHINES: PROVIDED WITH ACCURATE THERMOMETERS, CHEMICAL TEST KITS AND SUITABLE GAUGE COCK - Comments: INSTRUCTED TO REPAIR INOPERABLE TEMPERATURE GAUGE OF LOW TEMPERATURE DISH MACHINE BEHIND BAR.\\nSERIOUS VIOLATION 7-38-030 ',\n",
       " 'Zip': '60666'}"
      ]
     },
     "execution_count": 82,
     "metadata": {},
     "output_type": "execute_result"
    }
   ],
   "source": [
    "ohare[1]"
   ]
  },
  {
   "cell_type": "code",
   "execution_count": 83,
   "metadata": {
    "collapsed": false
   },
   "outputs": [
    {
     "data": {
      "text/plain": [
       "['18. NO EVIDENCE OF RODENT OR INSECT OUTER OPENINGS PROTECTED/RODENT PROOFED, A WRITTEN LOG SHALL BE MAINTAINED AVAILABLE TO THE INSPECTORS - Comments: FOUND NO LICENSED PEST CONTROL WRITTEN LOG BOOK AVAILABLE AT THIS TIME. INSTRUCTED TO PROVIDE WITH CURRENT SERVICE ON SITE. \\nSERIOUS VIOLATION 7-38-020 ',\n",
       " ' 2. FACILITIES TO MAINTAIN PROPER TEMPERATURE - Comments: FACILITIES (COOLERS AND FREEZERS) MUST BE TURNED ON WITH COLD HOLDING TEMPERATURE OF 40F OR BELOW AND FREEZING TEMPERATURE OF 0F OR BELOW.\\nCRITICAL VIOLATION 7-38-005(A) ',\n",
       " ' 11. ADEQUATE NUMBER, CONVENIENT, ACCESSIBLE, DESIGNED, AND MAINTAINED - Comments: INSTRUCTED TO INSTALL EXPOSED HAND SINK WITH HOT AND COLD RUNNING WATER EQUIPPED WITH HAND SOAP AND HAND DRYING DEVICE OR PAPER TOWEL IN BEVERAGE (COFFEE) PREP AREA.\\nCRITICAL VIOLATION 7-38-030 ',\n",
       " ' 32. FOOD AND NON-FOOD CONTACT SURFACES PROPERLY DESIGNED, CONSTRUCTED AND MAINTAINED - Comments: INSTRUCTED TO PROVIDE TIGHT FITTING COVER/LID FOR ICE BIN BEHIND BAR. ',\n",
       " ' 38. VENTILATION: ROOMS AND EQUIPMENT VENTED AS REQUIRED: PLUMBING: INSTALLED AND MAINTAINED - Comments: INSTRUCTED TO PROPERLY DRAIN BEVERAGE DRAIN LINE ONTO FLOOR DRAIN BEHIND BAR. ',\n",
       " ' 22. DISH MACHINES: PROVIDED WITH ACCURATE THERMOMETERS, CHEMICAL TEST KITS AND SUITABLE GAUGE COCK - Comments: INSTRUCTED TO REPAIR INOPERABLE TEMPERATURE GAUGE OF LOW TEMPERATURE DISH MACHINE BEHIND BAR.\\nSERIOUS VIOLATION 7-38-030 ']"
      ]
     },
     "execution_count": 83,
     "metadata": {},
     "output_type": "execute_result"
    }
   ],
   "source": [
    "ohare[1]['Violations'].split('|')"
   ]
  },
  {
   "cell_type": "code",
   "execution_count": 84,
   "metadata": {
    "collapsed": true
   },
   "outputs": [],
   "source": [
    "violations = _"
   ]
  },
  {
   "cell_type": "code",
   "execution_count": 85,
   "metadata": {
    "collapsed": false
   },
   "outputs": [
    {
     "data": {
      "text/plain": [
       "['18. NO EVIDENCE OF RODENT OR INSECT OUTER OPENINGS PROTECTED/RODENT PROOFED, A WRITTEN LOG SHALL BE MAINTAINED AVAILABLE TO THE INSPECTORS ',\n",
       " ' 2. FACILITIES TO MAINTAIN PROPER TEMPERATURE ',\n",
       " ' 11. ADEQUATE NUMBER, CONVENIENT, ACCESSIBLE, DESIGNED, AND MAINTAINED ',\n",
       " ' 32. FOOD AND NON-FOOD CONTACT SURFACES PROPERLY DESIGNED, CONSTRUCTED AND MAINTAINED ',\n",
       " ' 38. VENTILATION: ROOMS AND EQUIPMENT VENTED AS REQUIRED: PLUMBING: INSTALLED AND MAINTAINED ',\n",
       " ' 22. DISH MACHINES: PROVIDED WITH ACCURATE THERMOMETERS, CHEMICAL TEST KITS AND SUITABLE GAUGE COCK ']"
      ]
     },
     "execution_count": 85,
     "metadata": {},
     "output_type": "execute_result"
    }
   ],
   "source": [
    "[v[:v.find('- Comments:')] for v in violations]"
   ]
  },
  {
   "cell_type": "code",
   "execution_count": 86,
   "metadata": {
    "collapsed": false
   },
   "outputs": [
    {
     "data": {
      "text/plain": [
       "['18. NO EVIDENCE OF RODENT OR INSECT OUTER OPENINGS PROTECTED/RODENT PROOFED, A WRITTEN LOG SHALL BE MAINTAINED AVAILABLE TO THE INSPECTORS',\n",
       " '2. FACILITIES TO MAINTAIN PROPER TEMPERATURE',\n",
       " '11. ADEQUATE NUMBER, CONVENIENT, ACCESSIBLE, DESIGNED, AND MAINTAINED',\n",
       " '32. FOOD AND NON-FOOD CONTACT SURFACES PROPERLY DESIGNED, CONSTRUCTED AND MAINTAINED',\n",
       " '38. VENTILATION: ROOMS AND EQUIPMENT VENTED AS REQUIRED: PLUMBING: INSTALLED AND MAINTAINED',\n",
       " '22. DISH MACHINES: PROVIDED WITH ACCURATE THERMOMETERS, CHEMICAL TEST KITS AND SUITABLE GAUGE COCK']"
      ]
     },
     "execution_count": 86,
     "metadata": {},
     "output_type": "execute_result"
    }
   ],
   "source": [
    "[v[:v.find('- Comments:')].strip() for v in violations]"
   ]
  },
  {
   "cell_type": "code",
   "execution_count": 87,
   "metadata": {
    "collapsed": true
   },
   "outputs": [],
   "source": [
    "all_violations = [row['Violations'].split('|') for row in ohare]"
   ]
  },
  {
   "cell_type": "code",
   "execution_count": 88,
   "metadata": {
    "collapsed": true
   },
   "outputs": [],
   "source": [
    "c = Counter()\n",
    "for violations in all_violations:\n",
    "    for v in violations:\n",
    "        c[v[:v.find('- Comments:')].strip()] += 1"
   ]
  },
  {
   "cell_type": "code",
   "execution_count": 89,
   "metadata": {
    "collapsed": false
   },
   "outputs": [
    {
     "data": {
      "text/plain": [
       "[('33. FOOD AND NON-FOOD CONTACT EQUIPMENT UTENSILS CLEAN, FREE OF ABRASIVE DETERGENTS',\n",
       "  118),\n",
       " ('34. FLOORS: CONSTRUCTED PER CODE, CLEANED, GOOD REPAIR, COVING INSTALLED, DUST-LESS CLEANING METHODS USED',\n",
       "  115),\n",
       " ('35. WALLS, CEILINGS, ATTACHED EQUIPMENT CONSTRUCTED PER CODE: GOOD REPAIR, SURFACES CLEAN AND DUST-LESS CLEANING METHODS',\n",
       "  96),\n",
       " ('18. NO EVIDENCE OF RODENT OR INSECT OUTER OPENINGS PROTECTED/RODENT PROOFED, A WRITTEN LOG SHALL BE MAINTAINED AVAILABLE TO THE INSPECTORS',\n",
       "  89),\n",
       " ('32. FOOD AND NON-FOOD CONTACT SURFACES PROPERLY DESIGNED, CONSTRUCTED AND MAINTAINED',\n",
       "  74)]"
      ]
     },
     "execution_count": 89,
     "metadata": {},
     "output_type": "execute_result"
    }
   ],
   "source": [
    "c.most_common(5)"
   ]
  },
  {
   "cell_type": "code",
   "execution_count": null,
   "metadata": {
    "collapsed": true
   },
   "outputs": [],
   "source": []
  }
 ],
 "metadata": {
  "anaconda-cloud": {},
  "kernelspec": {
   "display_name": "Python [default]",
   "language": "python",
   "name": "python3"
  },
  "language_info": {
   "codemirror_mode": {
    "name": "ipython",
    "version": 3
   },
   "file_extension": ".py",
   "mimetype": "text/x-python",
   "name": "python",
   "nbconvert_exporter": "python",
   "pygments_lexer": "ipython3",
   "version": "3.5.2"
  }
 },
 "nbformat": 4,
 "nbformat_minor": 0
}
